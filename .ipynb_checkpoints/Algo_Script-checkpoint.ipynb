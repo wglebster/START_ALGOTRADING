{
 "cells": [
  {
   "cell_type": "code",
   "execution_count": null,
   "id": "dd5986ba",
   "metadata": {},
   "outputs": [],
   "source": [
    "'''This script scrapes https://www.marketbeat.com/types-of-stock/sp-500-stocks/ to get a list of tickers\n",
    "dynamically'''"
   ]
  },
  {
   "cell_type": "code",
   "execution_count": 48,
   "id": "6cde3465",
   "metadata": {},
   "outputs": [],
   "source": [
    "##import packages\n",
    "import requests\n",
    "from bs4 import BeautifulSoup\n",
    "from selenium import webdriver\n",
    "from selenium.webdriver.chrome.service import Service\n",
    "from webdriver_manager.chrome import ChromeDriverManager\n",
    "from selenium.webdriver.common.keys import Keys\n",
    "import numpy as np\n",
    "import pandas as pd\n",
    "import yfinance as yf\n",
    "import warnings\n",
    "warnings.filterwarnings(\"ignore\")\n",
    "import matplotlib.pyplot as plt\n",
    "import matplotlib as mpl\n",
    "from matplotlib import cycler\n",
    "#import time"
   ]
  },
  {
   "cell_type": "code",
   "execution_count": 53,
   "id": "2fc6c69d",
   "metadata": {},
   "outputs": [],
   "source": [
    "##define URL to scrape\n",
    "url = \"https://www.marketbeat.com/types-of-stock/sp-500-stocks/\"\n",
    "##define driver and open URL \n",
    "driver = webdriver.Chrome(service=Service(ChromeDriverManager().install())) ##this ensures that most up to\n",
    "##date driver is installed\n",
    "driver.implicitly_wait(10) ## if an element is not found, driver waits up to 10 seconds before timing out \n",
    "driver.get(url)\n",
    "\n",
    "##start scaping\n",
    "html = driver.page_source\n",
    "soup = BeautifulSoup(html, \"html.parser\")\n",
    "tickers = soup.find_all('div', class_ = 'ticker-area') # get all div elements with class \"ticker-area\"\n",
    "#can use below line to print out all tickers \n",
    "\n",
    "#[print(ticker.text.strip(),\",\", end = \" \") for ticker in tickers]\n",
    "\n",
    "sp500_tickers = [ticker for ticker in tickers]"
   ]
  },
  {
   "cell_type": "code",
   "execution_count": 50,
   "id": "de7017cb",
   "metadata": {},
   "outputs": [
    {
     "name": "stdout",
     "output_type": "stream",
     "text": [
      "AAPL , MSFT , GOOG , GOOGL , AMZN , TSLA , UNH , XOM , JNJ , WMT , NVDA , V , JPM , CVX , PG , LLY , MA , HD , BAC , META , ABBV , PFE , MRK , KO , PEP , PEP , COST , ORCL , TMO , AVGO , MCD , CSCO , DHR , TMUS , ACN , ABT , WFC , DIS , LIN , NEE , BMY , NKE , VZ , TXN , COP , UPS , ADBE , CMCSA , MS , CRM , PM , AMGN , SCHW , HON , RTX , QCOM , T , IBM , DE , CVS , GS , UNP , LOW , NFLX , LMT , ELV , CAT , AMD , INTC , SPGI , AXP , SBUX , BLK , INTU , ADP , GILD , PLD , BA , MDT , AMT , CI , GE , TJX , ISRG , C , PYPL , MDLZ , AMAT , CB , SYK , MMC , ADI , EOG , NOW , NOC , VRTX , MO , REGN , EL , BKNG , PGR , DUK , TGT , SO , SLB , MMM , ITW , ZTS , GD , APD , HUM , MRNA , HCA , PNC , WM , BDX , CSX , ETN , USB , FISV , SHW , CL , OXY , AON , MU , BSX , CME , EQIX , TFC , LRCX , PXD , CCI , CHTR , MET , ICE , MPC , NSC , DG , ATVI , GM , EMR , F , MCO , MCK , KDP , KDP , MNST , KLAC , ORLY , ADM , VLO , FCX , PSA , PSX , MAR , SRE , D , SNPS , GIS , AEP , AZO , CNC , HSY , APH , KHC , STZ , CTVA , EW , A , CTAS , ROP , FDX , JCI , CDNS , KMB , AIG , AFL , MSI , NXPI , DVN , HES , PAYX , TRV , BIIB , SYY , LHX , ENPH , ADSK , DXCM , RSG , ECL , AJG , CMG , KMI , MCHP , ANET , FTNT , WMB , TT , MSCI , IQV , O , TEL , ROST , PRU , EXC , EXC , SPG , PH , FIS , COF , NUE , XEL , HLT , CARR , BK , PCAR , NEM , DOW , WBA , ALL , EA , YUM , DD , AMP , CMI , KR , BF.B , TDG , ED , ABC , ILMN , IDXX , DLTR , RMD , HAL , NDAQ , LVS , WELL , OTIS , AME , ODFL , MTD , VICI , SBAC , DLR , ALB , ON , KEYS , PPG , CTSH , WEC , CPRT , GWW , ROK , HPQ , FAST , MTB , DFS , PEG , OKE , DHI , GLW , BKR , ES , APTV , VRSK , STT , LYB , BAX , TROW , WBD , AWK , GPN , IT , HRL , WTW , FANG , GPC , IFF , RJF , CDW , LEN , FITB , ZBH , ARE , URI , K , TSCO , EFX , EIX , EBAY , CBRE , VMC , TSN , HIG , FTV , EQR , WY , AVB , LUV , ETR , ULTA , AEE , MLM , FE , MKC , PFG , DAL , FRC , DTE , HBAN , CTRA , IR , PPL , ANSS , LH , RF , CF , PWR , VRSN , EXR , CAH , CFG , XYL , HPE , WAT , EPAM , DOV , WRB , ROL , TDY , NTRS , PAYC , CNP , MRO , CHD , AES , MOH , JBHT , MAA , CLX , HOLX , WAB , BBY , VTR , DRI , STE , AMCR , EXPD , IEX , CAG , KEY , CMS , BALL , MOS , BR , GRMN , GRMN , INCY , FDS , MPWR , PKI , TTWO , CINF , ABMD , FOXA , DGX , SEDG , ATO , BRO , WST , SYF , FMC , NTAP , OMC , SJM , FOX , CPB , EXPE , LYV , J , HWM , AVY , IRM , COO , ALGN , RCL , ETSY , APA , APA , TXT , SWKS , LDOS , LKQ , PTC , AKAM , UAL , TRMB , TER , TER , TER , NVR , LNT , FLT , KIM , ZBRA , JKHY , TYL , DPZ , ESS , MGM , PEAK , L , EVRG , VTRS , NDSN , IPG , BEN , VFC , TECH , UDR , CBOE , NLOK , MTCH , HST , HST , CTXS , SIVB , RE , IP , PARA , SNA , POOL , CPT , LW , CRL , PKG , SWK , BIO , TAP , WDC , CHRW , MAS , GL , CE , REG , STX , NI , HSIC , BXP , CCL , NWS , CZR , TFX , KMX , NWSA , EMN , JNPR , CDAY , PHM , ALLE , BWA , QRVO , NRG , MKTX , WRK , UHS , AOS , AAL , CMA , FFIV , BBWI , HII , AAP , FRT , TPR , IVZ , SBNY , PNW , FBHS , HAS , DISH , WYNN , RHI , WHR , ZION , PNR , SEE , CTLT , RL , NCLH , DXC , XRAY , AIZ , GNRC , DVA , LNC , MHK , OGN , LUMN , ALK , NWL , PENN , VNO , PVH , EMBC , "
     ]
    }
   ],
   "source": []
  },
  {
   "cell_type": "code",
   "execution_count": null,
   "id": "045735e5",
   "metadata": {},
   "outputs": [],
   "source": []
  }
 ],
 "metadata": {
  "kernelspec": {
   "display_name": "Python 3 (ipykernel)",
   "language": "python",
   "name": "python3"
  },
  "language_info": {
   "codemirror_mode": {
    "name": "ipython",
    "version": 3
   },
   "file_extension": ".py",
   "mimetype": "text/x-python",
   "name": "python",
   "nbconvert_exporter": "python",
   "pygments_lexer": "ipython3",
   "version": "3.9.12"
  }
 },
 "nbformat": 4,
 "nbformat_minor": 5
}
